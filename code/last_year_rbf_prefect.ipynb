{
 "cells": [
  {
   "cell_type": "code",
   "execution_count": 2,
   "metadata": {},
   "outputs": [],
   "source": [
    "import utils\n",
    "from utils import (\n",
    "    fit_and_score_pca_targets,\n",
    "    k_fold_validation,\n",
    "    truncated_pca,\n",
    "    pca_inputs,\n",
    "    load_all_data,\n",
    ")\n",
    "import numpy as np\n",
    "import pandas as pd\n",
    "from utils import Datasets\n",
    "from prefect import flow, get_run_logger\n",
    "\n",
    "from sklearn.gaussian_process.kernels import RBF  # type: ignore\n",
    "from sklearn.kernel_ridge import KernelRidge  # type: ignore"
   ]
  },
  {
   "cell_type": "code",
   "execution_count": null,
   "metadata": {
    "tags": [
     "parameters"
    ]
   },
   "outputs": [],
   "source": [
    "# Parameter cell for papermill, do not merge or delete this cell\n",
    "IS_TEST = False "
   ]
  },
  {
   "cell_type": "code",
   "execution_count": null,
   "metadata": {},
   "outputs": [],
   "source": [
    "# By default, Prefect makes a best effort to compute a\n",
    "# table hash of the .py file in which the flow is defined to\n",
    "# automatically detect when your code changes.\n",
    "@flow(\n",
    "    name=\"RBF with Input and Target PCA\",\n",
    "    description=\"Based on last year's winner of RNA->Prot\",\n",
    ")\n",
    "def last_year_rbf_flow(\n",
    "    max_rows_train=1000,\n",
    "    submit_to_kaggle=False,\n",
    "    technology=utils.cite,\n",
    "    inputs_pca_dims=4,\n",
    "    targets_pca_dims=4,\n",
    "    k_folds=2,\n",
    "    scale=10,  # RBF scale param. Higher means more model complexity\n",
    "    alpha=0.2,  # Regularization param. More is more regularization.\n",
    "):\n",
    "    logger = get_run_logger()\n",
    "    if technology == utils.multi:\n",
    "        data: Datasets = load_all_data(\n",
    "            technology=technology,\n",
    "            max_rows_train=max_rows_train,\n",
    "            submit_to_kaggle=submit_to_kaggle,\n",
    "            sparse=True,\n",
    "        )\n",
    "    else:\n",
    "        data: Datasets = load_all_data(\n",
    "            technology=technology,\n",
    "            max_rows_train=max_rows_train,\n",
    "            submit_to_kaggle=submit_to_kaggle,\n",
    "            sparse=True,\n",
    "        )\n",
    "    inputs_train, targets_train, inputs_test = (\n",
    "        data.inputs_train,\n",
    "        data.targets_train,\n",
    "        data.inputs_test,\n",
    "    )\n",
    "    pca_inputs_train, pca_inputs_test, _ = pca_inputs(\n",
    "        inputs_train, inputs_test, inputs_pca_dims\n",
    "    )\n",
    "    pca_targets_train, pca_model_targets = truncated_pca(\n",
    "        targets_train, targets_pca_dims, return_model=True\n",
    "    )\n",
    "    train_norm = utils.row_wise_std_scaler(pca_inputs_train).astype(np.float32)\n",
    "    del pca_inputs_train\n",
    "    kernel = RBF(length_scale=scale)\n",
    "    krr = KernelRidge(alpha=alpha, kernel=kernel)  # type: ignore\n",
    "    scores = k_fold_validation(\n",
    "        model=krr,\n",
    "        train_inputs=train_norm,\n",
    "        train_targets=pca_targets_train,\n",
    "        fit_and_score_func=fit_and_score_pca_targets,\n",
    "        k=k_folds,\n",
    "        pca_model_targets=pca_model_targets,\n",
    "    )\n",
    "    logger.info(f\"K-Fold complete. Scores: {scores}\")\n",
    "\n",
    "    test_norm = utils.row_wise_std_scaler(pca_inputs_test).astype(np.float32)\n",
    "    del pca_inputs_test\n",
    "    if submit_to_kaggle:\n",
    "        # TODO: extract to utils method\n",
    "        OTHER_FILENAME = \"cite_rbf_with_multi_linear\"\n",
    "        OTHER_SUBMISSION_PATH = utils.OUTPUT_DIR / f\"{OTHER_FILENAME}.csv\"\n",
    "        # fit model on downsampled data\n",
    "        krr.fit(train_norm, pca_targets_train)\n",
    "        # predict on full submission inputs\n",
    "        Y_hat = krr.predict(test_norm) @ pca_model_targets.components_  # type: ignore\n",
    "        # Format this experiment for submission\n",
    "        this_submission = utils.format_submission(Y_hat, technology)\n",
    "        # Load other submission which includes predictions\n",
    "        # for alternate tech\n",
    "        other_submission = pd.read_csv(OTHER_SUBMISSION_PATH, index_col=0)\n",
    "        # drop multi-index to align with other submission\n",
    "        reindexed_submission_this = pd.DataFrame(this_submission.reset_index(drop=True))\n",
    "        # Merge with separate predictions for other technology\n",
    "        merged = reindexed_submission_this[\"target\"].fillna(\n",
    "            other_submission[reindexed_submission_this[\"target\"].isna()][\"target\"]\n",
    "        )\n",
    "        # put into dataframe with proper column names\n",
    "        formatted_submission = pd.DataFrame(merged, columns=[\"target\"])\n",
    "        formatted_submission.index.name = \"row_id\"\n",
    "        utils.test_valid_submission(formatted_submission)\n",
    "        # write full predictions to csv\n",
    "        logger.info(\n",
    "            utils.OUTPUT_DIR / f\"{technology.name}_rbf_with_{OTHER_FILENAME}.csv\"\n",
    "        )\n",
    "        formatted_submission.to_csv(\n",
    "            utils.OUTPUT_DIR / f\"{technology.name}_rbf_with_{OTHER_FILENAME}.csv\"\n",
    "        )"
   ]
  },
  {
   "cell_type": "code",
   "execution_count": null,
   "metadata": {},
   "outputs": [],
   "source": [
    "@flow\n",
    "def test_or_run(is_test):\n",
    "    logger = get_run_logger()\n",
    "    if is_test:\n",
    "        last_year_rbf_flow(\n",
    "            max_rows_train=1_000,\n",
    "        )\n",
    "        logger.info(\"=============TEST PASSED=============\")\n",
    "    else:\n",
    "        last_year_rbf_flow(\n",
    "            max_rows_train=1_000,\n",
    "            submit_to_kaggle=True,\n",
    "            technology=utils.multi,\n",
    "            inputs_pca_dims=5,\n",
    "            targets_pca_dims=4,\n",
    "            k_folds=3,\n",
    "            scale=10,  # RBF scale param. Higher means more model complexity\n",
    "            alpha=0.2,  # Regularization param. More is more regularization.\n",
    "        )"
   ]
  },
  {
   "cell_type": "code",
   "execution_count": null,
   "metadata": {},
   "outputs": [],
   "source": [
    "test_or_run(IS_TEST)"
   ]
  }
 ],
 "metadata": {
  "kernelspec": {
   "display_name": "Python 3.10.6 ('.venv': venv)",
   "language": "python",
   "name": "python3"
  },
  "language_info": {
   "codemirror_mode": {
    "name": "ipython",
    "version": 3
   },
   "file_extension": ".py",
   "mimetype": "text/x-python",
   "name": "python",
   "nbconvert_exporter": "python",
   "pygments_lexer": "ipython3",
   "version": "3.10.6"
  },
  "orig_nbformat": 4,
  "vscode": {
   "interpreter": {
    "hash": "ffd6c8928b0ee1ff35d95e1a002ba83d6fc6c953861d0ac4f834d9a76673592c"
   }
  }
 },
 "nbformat": 4,
 "nbformat_minor": 2
}
