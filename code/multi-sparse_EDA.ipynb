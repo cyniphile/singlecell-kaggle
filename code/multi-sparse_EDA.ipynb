{
 "cells": [
  {
   "cell_type": "code",
   "execution_count": 1,
   "metadata": {},
   "outputs": [],
   "source": [
    "import scipy as sp\n",
    "import h5py\n",
    "import numpy as np\n",
    "import pandas as pd\n",
    "from sklearn.linear_model import LinearRegression\n",
    "import gc\n",
    "from utils import SPARSE_DATA_DIR, DATA_DIR\n",
    "import hdf5plugin"
   ]
  },
  {
   "cell_type": "code",
   "execution_count": 2,
   "metadata": {},
   "outputs": [],
   "source": [
    "train_features = sp.sparse.load_npz(\n",
    "    f'{SPARSE_DATA_DIR}/train_multi_inputs_values.sparse.npz'\n",
    ")\n",
    "train_output = sp.sparse.load_npz(\n",
    "    f'{SPARSE_DATA_DIR}/train_multi_targets_values.sparse.npz'\n",
    ")"
   ]
  },
  {
   "cell_type": "code",
   "execution_count": 3,
   "metadata": {},
   "outputs": [],
   "source": [
    "train_input_idx = np.load(\n",
    "    f'{SPARSE_DATA_DIR}/train_multi_inputs_idxcol.npz'\n",
    ")\n",
    "train_output_idx = np.load(\n",
    "    f'{SPARSE_DATA_DIR}/train_multi_targets_idxcol.npz'\n",
    ")"
   ]
  },
  {
   "cell_type": "code",
   "execution_count": 5,
   "metadata": {},
   "outputs": [
    {
     "data": {
      "text/plain": [
       "(105942, 228942)"
      ]
     },
     "execution_count": 5,
     "metadata": {},
     "output_type": "execute_result"
    }
   ],
   "source": [
    "train_features.shape"
   ]
  },
  {
   "cell_type": "code",
   "execution_count": 6,
   "metadata": {},
   "outputs": [
    {
     "data": {
      "text/plain": [
       "(105942, 23418)"
      ]
     },
     "execution_count": 6,
     "metadata": {},
     "output_type": "execute_result"
    }
   ],
   "source": [
    "train_output.shape"
   ]
  },
  {
   "cell_type": "markdown",
   "metadata": {},
   "source": [
    "We already know the input data is very sparse. \n",
    "\n",
    "- What about output?\n",
    "\n",
    "\tFor cite we know it's about 75% sparse, and this checks out:\n",
    "\t```\n",
    "\t2.3 GB   train_cite_inputs.h5\n",
    "\t711 MB  train_cite_inputs_values.sparse.npz\n",
    "\t```\n",
    "\tOutputs aren't really sparse at all\n",
    "\t```\n",
    "\t36 MB  train_cite_targets_values.sparse.npz\n",
    "\t37 MB   train_cite_targets.h5\n",
    "\t```\n",
    "\tFor multi, I read that inputs were about 95% sparse. Hmmm.\n",
    "\t```\n",
    "\t11 GB   train_multi_inputs.h5\n",
    "\t2.8 GB  train_multi_inputs_values.sparse.npz\n",
    "\t```\n",
    "\tRegardless, targets are quite sparse too.\n",
    "\t```\n",
    "\t3.0 GB   train_multi_targets.h5\n",
    "\t824 MB  train_multi_targets_values.sparse.npz\n",
    "\t```\n",
    "\n"
   ]
  },
  {
   "cell_type": "markdown",
   "metadata": {},
   "source": [
    "- Are any columns all zeros?\n",
    "- How do columns change in availability across input/output and technologies?\n"
   ]
  },
  {
   "cell_type": "code",
   "execution_count": 10,
   "metadata": {},
   "outputs": [],
   "source": [
    "train_multi_inputs_cols_hd5 = h5py.File(\n",
    "    f'{DATA_DIR}/train_multi_inputs.h5'\n",
    ")\n",
    "group = train_multi_inputs_cols_hd5['train_multi_inputs']\n",
    "axis = group['axis0']\n",
    "train_multi_inputs_cols = axis[()]"
   ]
  },
  {
   "cell_type": "code",
   "execution_count": 11,
   "metadata": {},
   "outputs": [
    {
     "data": {
      "text/plain": [
       "()"
      ]
     },
     "execution_count": 11,
     "metadata": {},
     "output_type": "execute_result"
    }
   ],
   "source": [
    "()"
   ]
  },
  {
   "cell_type": "markdown",
   "metadata": {},
   "source": [
    "Slow to even load just 1 row of multi"
   ]
  },
  {
   "cell_type": "code",
   "execution_count": null,
   "metadata": {},
   "outputs": [],
   "source": [
    "train_multi_target_cols = pd.read_hdf(f'{DATA_DIR}/train_multi_targets.h5', start=0, end=1)"
   ]
  }
 ],
 "metadata": {
  "kernelspec": {
   "display_name": "Python 3.10.6 ('.venv': poetry)",
   "language": "python",
   "name": "python3"
  },
  "language_info": {
   "codemirror_mode": {
    "name": "ipython",
    "version": 3
   },
   "file_extension": ".py",
   "mimetype": "text/x-python",
   "name": "python",
   "nbconvert_exporter": "python",
   "pygments_lexer": "ipython3",
   "version": "3.10.6"
  },
  "orig_nbformat": 4,
  "vscode": {
   "interpreter": {
    "hash": "ffd6c8928b0ee1ff35d95e1a002ba83d6fc6c953861d0ac4f834d9a76673592c"
   }
  }
 },
 "nbformat": 4,
 "nbformat_minor": 2
}
