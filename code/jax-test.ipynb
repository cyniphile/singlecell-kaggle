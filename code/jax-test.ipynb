{
 "cells": [
  {
   "cell_type": "code",
   "execution_count": 1,
   "metadata": {},
   "outputs": [],
   "source": [
    "import jax\n",
    "import jax.numpy as jnp\n",
    "import numpy as np\n",
    "import utils\n",
    "from jax.config import config \n",
    "config.update(\"jax_debug_nans\", True)"
   ]
  },
  {
   "cell_type": "code",
   "execution_count": 12,
   "metadata": {},
   "outputs": [
    {
     "data": {
      "text/plain": [
       "DeviceArray([[ 4.78476841e-06, -1.28307220e-05,  1.14032252e-06, ...,\n",
       "              -1.59751453e-05,  5.00876740e-06, -2.07524545e-06],\n",
       "             [-4.35289212e-06,  2.99658927e-06, -1.34344975e-06, ...,\n",
       "              -7.83445012e-06, -3.29639397e-06,  2.01373950e-06],\n",
       "             [ 1.38957125e-06,  7.06156061e-06, -2.61800255e-06, ...,\n",
       "               2.33797582e-05,  4.59017429e-06, -2.43861859e-06],\n",
       "             ...,\n",
       "             [-9.36807191e-06, -7.29718749e-06, -3.20430081e-06, ...,\n",
       "               7.34695777e-06, -8.46224248e-06,  2.41146540e-06],\n",
       "             [ 4.63343713e-06, -8.94627101e-06, -9.02411648e-06, ...,\n",
       "               3.18612047e-06, -8.37285768e-07,  1.42406834e-05],\n",
       "             [ 1.76733215e-06,  1.18749967e-05, -4.07136349e-06, ...,\n",
       "              -7.59901468e-06,  1.35719165e-05,  6.13596694e-06]],            dtype=float32)"
      ]
     },
     "execution_count": 12,
     "metadata": {},
     "output_type": "execute_result"
    }
   ],
   "source": [
    "def row_corr(row_true, row_pred):\n",
    "    # convert to loss, which must be minimized\n",
    "    return 1 + (-1) * jnp.corrcoef(row_true, row_pred)[1, 0]\n",
    "\n",
    "\n",
    "def correlation_loss(y_true, y_pred) -> float:\n",
    "    row_correlations = jax.vmap(row_corr, in_axes=(0, 0))(y_true, y_pred)\n",
    "    return row_correlations.sum() / y_true.shape[0]\n",
    "\n",
    "\n",
    "size = (1000,100)\n",
    "np.random.seed(0)\n",
    "# a = np.linspace(0, 1, num=size)\n",
    "a = np.random.normal(size=size)\n",
    "b = np.random.normal(size=size)\n",
    "\n",
    "cc = lambda a: correlation_loss(b, a)\n",
    "g = jax.grad(cc)\n",
    "# cc(a)\n",
    "g(a)"
   ]
  },
  {
   "cell_type": "code",
   "execution_count": null,
   "metadata": {},
   "outputs": [],
   "source": []
  }
 ],
 "metadata": {
  "kernelspec": {
   "display_name": "Python 3.10.6 ('.venv': poetry)",
   "language": "python",
   "name": "python3"
  },
  "language_info": {
   "codemirror_mode": {
    "name": "ipython",
    "version": 3
   },
   "file_extension": ".py",
   "mimetype": "text/x-python",
   "name": "python",
   "nbconvert_exporter": "python",
   "pygments_lexer": "ipython3",
   "version": "3.10.6"
  },
  "orig_nbformat": 4,
  "vscode": {
   "interpreter": {
    "hash": "ffd6c8928b0ee1ff35d95e1a002ba83d6fc6c953861d0ac4f834d9a76673592c"
   }
  }
 },
 "nbformat": 4,
 "nbformat_minor": 2
}
