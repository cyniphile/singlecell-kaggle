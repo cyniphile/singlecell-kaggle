{
 "cells": [
  {
   "cell_type": "code",
   "execution_count": 1,
   "metadata": {},
   "outputs": [
    {
     "name": "stderr",
     "output_type": "stream",
     "text": [
      "20:02:20.509 | INFO    | prefect.engine - Created flow run 'thoughtful-goshawk' for flow 'run-or-get-cache'\n",
      "20:02:21.320 | INFO    | Flow run 'thoughtful-goshawk' - Finished in state Completed()\n"
     ]
    }
   ],
   "source": [
    "from rbf_pca_normed_input_output import last_year_rbf_flow\n",
    "import utils"
   ]
  },
  {
   "cell_type": "code",
   "execution_count": 2,
   "metadata": {},
   "outputs": [
    {
     "name": "stderr",
     "output_type": "stream",
     "text": [
      "20:02:21.482 | INFO    | Flow run 'thoughtful-goshawk' - no cache found, running flow last_year_rbf_flow\n",
      "20:02:21.831 | INFO    | prefect.engine - Created flow run 'burrowing-longhorn' for flow 'RBF with Input and Target PCA'\n",
      "20:02:23.065 | INFO    | Flow run 'burrowing-longhorn' - Created subflow run 'ruby-ringtail' for flow 'load-all-data'\n",
      "20:02:23.386 | INFO    | Flow run 'ruby-ringtail' - Created task run 'load_train_inputs-c15fb8b8-0' for task 'load_train_inputs'\n",
      "20:02:23.388 | INFO    | Flow run 'ruby-ringtail' - Submitted task run 'load_train_inputs-c15fb8b8-0' for execution.\n"
     ]
    }
   ],
   "source": [
    "alphas = [.01, .1, 1]\n",
    "scales = [1, 10, 100]\n",
    "input_pca_dims = [2, 20, 100, 200]\n",
    "output_pca_dims = [2, 20, 100, 140]\n",
    "max_rows_train = 10_000\n",
    "\n",
    "for technology in [utils.cite, utils.multi]:\n",
    "    for alpha in alphas:\n",
    "        for scale in scales:\n",
    "            for input_pca_dim in input_pca_dims:\n",
    "                for output_pca_dim in output_pca_dims:\n",
    "                    last_year_rbf_flow(\n",
    "                        technology=technology,\n",
    "                        max_rows_train=max_rows_train,\n",
    "                        alpha=alpha,\n",
    "                        scale=scale,\n",
    "                        inputs_pca_dims=input_pca_dim,\n",
    "                        targets_pca_dims=output_pca_dim,\n",
    "                    )\n"
   ]
  },
  {
   "cell_type": "code",
   "execution_count": 3,
   "metadata": {},
   "outputs": [],
   "source": [
    "from utils import create_submission_from_mlflow_experiments"
   ]
  },
  {
   "cell_type": "code",
   "execution_count": 4,
   "metadata": {},
   "outputs": [
    {
     "name": "stderr",
     "output_type": "stream",
     "text": [
      "/Users/luke/projects/singlecell-kaggle/.venv/lib/python3.10/site-packages/prefect/flows.py:201: UserWarning: A flow named 'RBF with Input and Target PCA' and defined at '/Users/luke/projects/singlecell-kaggle/code/rbf_pca_normed_input_output.py:29' conflicts with another flow. Consider specifying a unique `name` parameter in the flow definition:\n",
      "\n",
      " `@flow(name='my_unique_name', ...)`\n",
      "  warnings.warn(\n",
      "11:03:19.046 | INFO    | prefect.engine - Created flow run 'esoteric-mole' for flow 'run-or-get-cache'\n",
      "11:03:19.686 | INFO    | Flow run 'esoteric-mole' - Finished in state Completed()\n",
      "11:03:19.691 | INFO    | Flow run 'esoteric-mole' - found cache /Users/luke/projects/singlecell-kaggle/data/submissions/last_year_rbf_flow-189537443420133587712892105444131605041.arrow, skipping recalculation...\n",
      "--- Orion logging error ---\n",
      "Traceback (most recent call last):\n",
      "  File \"/Users/luke/projects/singlecell-kaggle/.venv/lib/python3.10/site-packages/httpx/_transports/default.py\", line 60, in map_httpcore_exceptions\n",
      "    yield\n",
      "  File \"/Users/luke/projects/singlecell-kaggle/.venv/lib/python3.10/site-packages/httpx/_transports/default.py\", line 353, in handle_async_request\n",
      "    resp = await self._pool.handle_async_request(req)\n",
      "  File \"/Users/luke/projects/singlecell-kaggle/.venv/lib/python3.10/site-packages/httpcore/_async/connection_pool.py\", line 253, in handle_async_request\n",
      "    raise exc\n",
      "  File \"/Users/luke/projects/singlecell-kaggle/.venv/lib/python3.10/site-packages/httpcore/_async/connection_pool.py\", line 237, in handle_async_request\n",
      "    response = await connection.handle_async_request(request)\n",
      "  File \"/Users/luke/projects/singlecell-kaggle/.venv/lib/python3.10/site-packages/httpcore/_async/connection.py\", line 90, in handle_async_request\n",
      "    return await self._connection.handle_async_request(request)\n",
      "  File \"/Users/luke/projects/singlecell-kaggle/.venv/lib/python3.10/site-packages/httpcore/_async/http2.py\", line 146, in handle_async_request\n",
      "    raise exc\n",
      "  File \"/Users/luke/projects/singlecell-kaggle/.venv/lib/python3.10/site-packages/httpcore/_async/http2.py\", line 114, in handle_async_request\n",
      "    status, headers = await self._receive_response(\n",
      "  File \"/Users/luke/projects/singlecell-kaggle/.venv/lib/python3.10/site-packages/httpcore/_async/http2.py\", line 231, in _receive_response\n",
      "    event = await self._receive_stream_event(request, stream_id)\n",
      "  File \"/Users/luke/projects/singlecell-kaggle/.venv/lib/python3.10/site-packages/httpcore/_async/http2.py\", line 262, in _receive_stream_event\n",
      "    await self._receive_events(request, stream_id)\n",
      "  File \"/Users/luke/projects/singlecell-kaggle/.venv/lib/python3.10/site-packages/httpcore/_async/http2.py\", line 283, in _receive_events\n",
      "    events = await self._read_incoming_data(request)\n",
      "  File \"/Users/luke/projects/singlecell-kaggle/.venv/lib/python3.10/site-packages/httpcore/_async/http2.py\", line 343, in _read_incoming_data\n",
      "    raise exc\n",
      "  File \"/Users/luke/projects/singlecell-kaggle/.venv/lib/python3.10/site-packages/httpcore/_async/http2.py\", line 331, in _read_incoming_data\n",
      "    raise RemoteProtocolError(\"Server disconnected\")\n",
      "httpcore.RemoteProtocolError: Server disconnected\n",
      "\n",
      "The above exception was the direct cause of the following exception:\n",
      "\n",
      "Traceback (most recent call last):\n",
      "  File \"/Users/luke/projects/singlecell-kaggle/.venv/lib/python3.10/site-packages/prefect/logging/handlers.py\", line 146, in send_logs\n",
      "    await client.create_logs(self._pending_logs)\n",
      "  File \"/Users/luke/projects/singlecell-kaggle/.venv/lib/python3.10/site-packages/prefect/client/orion.py\", line 1713, in create_logs\n",
      "    await self._client.post(f\"/logs/\", json=serialized_logs)\n",
      "  File \"/Users/luke/projects/singlecell-kaggle/.venv/lib/python3.10/site-packages/httpx/_client.py\", line 1842, in post\n",
      "    return await self.request(\n",
      "  File \"/Users/luke/projects/singlecell-kaggle/.venv/lib/python3.10/site-packages/httpx/_client.py\", line 1527, in request\n",
      "    return await self.send(request, auth=auth, follow_redirects=follow_redirects)\n",
      "  File \"/Users/luke/projects/singlecell-kaggle/.venv/lib/python3.10/site-packages/prefect/client/base.py\", line 159, in send\n",
      "    await super().send(*args, **kwargs)\n",
      "  File \"/Users/luke/projects/singlecell-kaggle/.venv/lib/python3.10/site-packages/httpx/_client.py\", line 1614, in send\n",
      "    response = await self._send_handling_auth(\n",
      "  File \"/Users/luke/projects/singlecell-kaggle/.venv/lib/python3.10/site-packages/httpx/_client.py\", line 1642, in _send_handling_auth\n",
      "    response = await self._send_handling_redirects(\n",
      "  File \"/Users/luke/projects/singlecell-kaggle/.venv/lib/python3.10/site-packages/httpx/_client.py\", line 1679, in _send_handling_redirects\n",
      "    response = await self._send_single_request(request)\n",
      "  File \"/Users/luke/projects/singlecell-kaggle/.venv/lib/python3.10/site-packages/httpx/_client.py\", line 1716, in _send_single_request\n",
      "    response = await transport.handle_async_request(request)\n",
      "  File \"/Users/luke/projects/singlecell-kaggle/.venv/lib/python3.10/site-packages/httpx/_transports/default.py\", line 352, in handle_async_request\n",
      "    with map_httpcore_exceptions():\n",
      "  File \"/Users/luke/.pyenv/versions/3.10.6/lib/python3.10/contextlib.py\", line 153, in __exit__\n",
      "    self.gen.throw(typ, value, traceback)\n",
      "  File \"/Users/luke/projects/singlecell-kaggle/.venv/lib/python3.10/site-packages/httpx/_transports/default.py\", line 77, in map_httpcore_exceptions\n",
      "    raise mapped_exc(message) from exc\n",
      "httpx.RemoteProtocolError: Server disconnected\n",
      "Worker information:\n",
      "    Approximate queue length: 0\n",
      "    Pending log batch length: 1\n",
      "    Pending log batch size: 360\n",
      "The log worker will attempt to send these logs again in 2.0s\n",
      "/Users/luke/projects/singlecell-kaggle/.venv/lib/python3.10/site-packages/prefect/flows.py:201: UserWarning: A flow named 'RBF with Input and Target PCA' and defined at '/Users/luke/projects/singlecell-kaggle/code/rbf_pca_normed_input_output.py:29' conflicts with another flow. Consider specifying a unique `name` parameter in the flow definition:\n",
      "\n",
      " `@flow(name='my_unique_name', ...)`\n",
      "  warnings.warn(\n",
      "11:03:33.179 | INFO    | prefect.engine - Created flow run 'icy-carp' for flow 'run-or-get-cache'\n",
      "11:03:33.840 | INFO    | Flow run 'icy-carp' - Finished in state Completed()\n",
      "11:03:33.981 | INFO    | Flow run 'icy-carp' - found cache /Users/luke/projects/singlecell-kaggle/data/submissions/last_year_rbf_flow-47159474310652175624918429363413920022.arrow, skipping recalculation...\n"
     ]
    },
    {
     "ename": "OSError",
     "evalue": "[Errno 63] File name too long: '/Users/luke/projects/singlecell-kaggle/data/submissions/SubmissionExperiments(cite_mlflow_id=            row_id       cell_id          gene_id    target\\n0                0  c2150f55becb             CD86  0.197349\\n1                1  c2150f55becb            CD274  0.231233\\n2                2  c2150f55becb            CD270  0.580790\\n3                3  c2150f55becb            CD155  4.036426\\n4                4  c2150f55becb            CD112  4.409443\\n...            ...           ...              ...       ...\\n65744175  65744175  2c53aa67933d  ENSG00000134419       NaN\\n65744176  65744176  2c53aa67933d  ENSG00000186862       NaN\\n65744177  65744177  2c53aa67933d  ENSG00000170959       NaN\\n65744178  65744178  2c53aa67933d  ENSG00000107874       NaN\\n65744179  65744179  2c53aa67933d  ENSG00000166012       NaN\\n\\n[65744180 rows x 4 columns], multi_mlflow_id=            row_id       cell_id          gene_id    target\\n0                0  c2150f55becb             CD86       NaN\\n1                1  c2150f55becb            CD274       NaN\\n2                2  c2150f55becb            CD270       NaN\\n3                3  c2150f55becb            CD155       NaN\\n4                4  c2150f55becb            CD112       NaN\\n...            ...           ...              ...       ...\\n65744175  65744175  2c53aa67933d  ENSG00000134419  7.288827\\n65744176  65744176  2c53aa67933d  ENSG00000186862  0.004446\\n65744177  65744177  2c53aa67933d  ENSG00000170959  0.056028\\n65744178  65744178  2c53aa67933d  ENSG00000107874  1.916548\\n65744179  65744179  2c53aa67933d  ENSG00000166012  5.034296\\n\\n[65744180 rows x 4 columns]).csv'",
     "output_type": "error",
     "traceback": [
      "\u001b[0;31m---------------------------------------------------------------------------\u001b[0m",
      "\u001b[0;31mOSError\u001b[0m                                   Traceback (most recent call last)",
      "Cell \u001b[0;32mIn [4], line 1\u001b[0m\n\u001b[0;32m----> 1\u001b[0m create_submission_from_mlflow_experiments(\u001b[39m\"\u001b[39;49m\u001b[39m87109fdd739f4d03a21e69e59c82e0ac\u001b[39;49m\u001b[39m\"\u001b[39;49m, \u001b[39m\"\u001b[39;49m\u001b[39md2a4ca9b23a54d64971cca01c750b311\u001b[39;49m\u001b[39m\"\u001b[39;49m)\n",
      "File \u001b[0;32m~/projects/singlecell-kaggle/code/utils.py:548\u001b[0m, in \u001b[0;36mcreate_submission_from_mlflow_experiments\u001b[0;34m(cite_mlflow_run_id, multi_mlflow_run_id)\u001b[0m\n\u001b[1;32m    546\u001b[0m m \u001b[39m=\u001b[39m _create_submission_based_on_experiment(multi_mlflow_run_id, multi)\n\u001b[1;32m    547\u001b[0m s \u001b[39m=\u001b[39m SubmissionExperiments(c, m)\n\u001b[0;32m--> 548\u001b[0m \u001b[39mreturn\u001b[39;00m _merge_and_submit(c, m, s)\n",
      "File \u001b[0;32m~/projects/singlecell-kaggle/code/utils.py:448\u001b[0m, in \u001b[0;36m_merge_and_submit\u001b[0;34m(df_cite, df_multi, experiment_ids)\u001b[0m\n\u001b[1;32m    446\u001b[0m logging\u001b[39m.\u001b[39minfo(\u001b[39m\"\u001b[39m\u001b[39mstarting merge\u001b[39m\u001b[39m\"\u001b[39m)\n\u001b[1;32m    447\u001b[0m merged \u001b[39m=\u001b[39m _merge_submission(df_cite, df_multi)\n\u001b[0;32m--> 448\u001b[0m _submit_to_kaggle(merged, \u001b[39mstr\u001b[39;49m(experiment_ids))\n",
      "File \u001b[0;32m~/projects/singlecell-kaggle/code/utils.py:419\u001b[0m, in \u001b[0;36m_submit_to_kaggle\u001b[0;34m(merged_submission, submission_message)\u001b[0m\n\u001b[1;32m    417\u001b[0m submission_file_name \u001b[39m=\u001b[39m \u001b[39mf\u001b[39m\u001b[39m\"\u001b[39m\u001b[39m{\u001b[39;00m\u001b[39mstr\u001b[39m(OUTPUT_DIR)\u001b[39m}\u001b[39;00m\u001b[39m/\u001b[39m\u001b[39m{\u001b[39;00msubmission_message\u001b[39m}\u001b[39;00m\u001b[39m.csv\u001b[39m\u001b[39m\"\u001b[39m\n\u001b[1;32m    418\u001b[0m logging\u001b[39m.\u001b[39minfo(\u001b[39mf\u001b[39m\u001b[39m\"\u001b[39m\u001b[39mWriting \u001b[39m\u001b[39m{\u001b[39;00msubmission_file_name\u001b[39m}\u001b[39;00m\u001b[39m locally for submission\u001b[39m\u001b[39m\"\u001b[39m)\n\u001b[0;32m--> 419\u001b[0m merged_submission\u001b[39m.\u001b[39;49mto_csv(submission_file_name)\n\u001b[1;32m    420\u001b[0m logging\u001b[39m.\u001b[39minfo(\u001b[39mf\u001b[39m\u001b[39m\"\u001b[39m\u001b[39mSubmitting \u001b[39m\u001b[39m{\u001b[39;00msubmission_file_name\u001b[39m}\u001b[39;00m\u001b[39m to kaggle \u001b[39m\u001b[39m\"\u001b[39m)\n\u001b[1;32m    421\u001b[0m os\u001b[39m.\u001b[39msystem(\n\u001b[1;32m    422\u001b[0m     \u001b[39mf\u001b[39m\u001b[39m'\u001b[39m\u001b[39mkaggle competitions submit -c open-problems-multimodal -f \u001b[39m\u001b[39m{\u001b[39;00msubmission_file_name\u001b[39m}\u001b[39;00m\u001b[39m -m \u001b[39m\u001b[39m\"\u001b[39m\u001b[39m{\u001b[39;00msubmission_message\u001b[39m}\u001b[39;00m\u001b[39m\"\u001b[39m\u001b[39m'\u001b[39m\n\u001b[1;32m    423\u001b[0m )\n",
      "File \u001b[0;32m~/projects/singlecell-kaggle/.venv/lib/python3.10/site-packages/pandas/util/_decorators.py:211\u001b[0m, in \u001b[0;36mdeprecate_kwarg.<locals>._deprecate_kwarg.<locals>.wrapper\u001b[0;34m(*args, **kwargs)\u001b[0m\n\u001b[1;32m    209\u001b[0m     \u001b[39melse\u001b[39;00m:\n\u001b[1;32m    210\u001b[0m         kwargs[new_arg_name] \u001b[39m=\u001b[39m new_arg_value\n\u001b[0;32m--> 211\u001b[0m \u001b[39mreturn\u001b[39;00m func(\u001b[39m*\u001b[39;49margs, \u001b[39m*\u001b[39;49m\u001b[39m*\u001b[39;49mkwargs)\n",
      "File \u001b[0;32m~/projects/singlecell-kaggle/.venv/lib/python3.10/site-packages/pandas/core/generic.py:3721\u001b[0m, in \u001b[0;36mNDFrame.to_csv\u001b[0;34m(self, path_or_buf, sep, na_rep, float_format, columns, header, index, index_label, mode, encoding, compression, quoting, quotechar, lineterminator, chunksize, date_format, doublequote, escapechar, decimal, errors, storage_options)\u001b[0m\n\u001b[1;32m   3710\u001b[0m df \u001b[39m=\u001b[39m \u001b[39mself\u001b[39m \u001b[39mif\u001b[39;00m \u001b[39misinstance\u001b[39m(\u001b[39mself\u001b[39m, ABCDataFrame) \u001b[39melse\u001b[39;00m \u001b[39mself\u001b[39m\u001b[39m.\u001b[39mto_frame()\n\u001b[1;32m   3712\u001b[0m formatter \u001b[39m=\u001b[39m DataFrameFormatter(\n\u001b[1;32m   3713\u001b[0m     frame\u001b[39m=\u001b[39mdf,\n\u001b[1;32m   3714\u001b[0m     header\u001b[39m=\u001b[39mheader,\n\u001b[0;32m   (...)\u001b[0m\n\u001b[1;32m   3718\u001b[0m     decimal\u001b[39m=\u001b[39mdecimal,\n\u001b[1;32m   3719\u001b[0m )\n\u001b[0;32m-> 3721\u001b[0m \u001b[39mreturn\u001b[39;00m DataFrameRenderer(formatter)\u001b[39m.\u001b[39;49mto_csv(\n\u001b[1;32m   3722\u001b[0m     path_or_buf,\n\u001b[1;32m   3723\u001b[0m     lineterminator\u001b[39m=\u001b[39;49mlineterminator,\n\u001b[1;32m   3724\u001b[0m     sep\u001b[39m=\u001b[39;49msep,\n\u001b[1;32m   3725\u001b[0m     encoding\u001b[39m=\u001b[39;49mencoding,\n\u001b[1;32m   3726\u001b[0m     errors\u001b[39m=\u001b[39;49merrors,\n\u001b[1;32m   3727\u001b[0m     compression\u001b[39m=\u001b[39;49mcompression,\n\u001b[1;32m   3728\u001b[0m     quoting\u001b[39m=\u001b[39;49mquoting,\n\u001b[1;32m   3729\u001b[0m     columns\u001b[39m=\u001b[39;49mcolumns,\n\u001b[1;32m   3730\u001b[0m     index_label\u001b[39m=\u001b[39;49mindex_label,\n\u001b[1;32m   3731\u001b[0m     mode\u001b[39m=\u001b[39;49mmode,\n\u001b[1;32m   3732\u001b[0m     chunksize\u001b[39m=\u001b[39;49mchunksize,\n\u001b[1;32m   3733\u001b[0m     quotechar\u001b[39m=\u001b[39;49mquotechar,\n\u001b[1;32m   3734\u001b[0m     date_format\u001b[39m=\u001b[39;49mdate_format,\n\u001b[1;32m   3735\u001b[0m     doublequote\u001b[39m=\u001b[39;49mdoublequote,\n\u001b[1;32m   3736\u001b[0m     escapechar\u001b[39m=\u001b[39;49mescapechar,\n\u001b[1;32m   3737\u001b[0m     storage_options\u001b[39m=\u001b[39;49mstorage_options,\n\u001b[1;32m   3738\u001b[0m )\n",
      "File \u001b[0;32m~/projects/singlecell-kaggle/.venv/lib/python3.10/site-packages/pandas/util/_decorators.py:211\u001b[0m, in \u001b[0;36mdeprecate_kwarg.<locals>._deprecate_kwarg.<locals>.wrapper\u001b[0;34m(*args, **kwargs)\u001b[0m\n\u001b[1;32m    209\u001b[0m     \u001b[39melse\u001b[39;00m:\n\u001b[1;32m    210\u001b[0m         kwargs[new_arg_name] \u001b[39m=\u001b[39m new_arg_value\n\u001b[0;32m--> 211\u001b[0m \u001b[39mreturn\u001b[39;00m func(\u001b[39m*\u001b[39;49margs, \u001b[39m*\u001b[39;49m\u001b[39m*\u001b[39;49mkwargs)\n",
      "File \u001b[0;32m~/projects/singlecell-kaggle/.venv/lib/python3.10/site-packages/pandas/io/formats/format.py:1189\u001b[0m, in \u001b[0;36mDataFrameRenderer.to_csv\u001b[0;34m(self, path_or_buf, encoding, sep, columns, index_label, mode, compression, quoting, quotechar, lineterminator, chunksize, date_format, doublequote, escapechar, errors, storage_options)\u001b[0m\n\u001b[1;32m   1168\u001b[0m     created_buffer \u001b[39m=\u001b[39m \u001b[39mFalse\u001b[39;00m\n\u001b[1;32m   1170\u001b[0m csv_formatter \u001b[39m=\u001b[39m CSVFormatter(\n\u001b[1;32m   1171\u001b[0m     path_or_buf\u001b[39m=\u001b[39mpath_or_buf,\n\u001b[1;32m   1172\u001b[0m     lineterminator\u001b[39m=\u001b[39mlineterminator,\n\u001b[0;32m   (...)\u001b[0m\n\u001b[1;32m   1187\u001b[0m     formatter\u001b[39m=\u001b[39m\u001b[39mself\u001b[39m\u001b[39m.\u001b[39mfmt,\n\u001b[1;32m   1188\u001b[0m )\n\u001b[0;32m-> 1189\u001b[0m csv_formatter\u001b[39m.\u001b[39;49msave()\n\u001b[1;32m   1191\u001b[0m \u001b[39mif\u001b[39;00m created_buffer:\n\u001b[1;32m   1192\u001b[0m     \u001b[39massert\u001b[39;00m \u001b[39misinstance\u001b[39m(path_or_buf, StringIO)\n",
      "File \u001b[0;32m~/projects/singlecell-kaggle/.venv/lib/python3.10/site-packages/pandas/io/formats/csvs.py:241\u001b[0m, in \u001b[0;36mCSVFormatter.save\u001b[0;34m(self)\u001b[0m\n\u001b[1;32m    237\u001b[0m \u001b[39m\"\"\"\u001b[39;00m\n\u001b[1;32m    238\u001b[0m \u001b[39mCreate the writer & save.\u001b[39;00m\n\u001b[1;32m    239\u001b[0m \u001b[39m\"\"\"\u001b[39;00m\n\u001b[1;32m    240\u001b[0m \u001b[39m# apply compression and byte/text conversion\u001b[39;00m\n\u001b[0;32m--> 241\u001b[0m \u001b[39mwith\u001b[39;00m get_handle(\n\u001b[1;32m    242\u001b[0m     \u001b[39mself\u001b[39;49m\u001b[39m.\u001b[39;49mfilepath_or_buffer,\n\u001b[1;32m    243\u001b[0m     \u001b[39mself\u001b[39;49m\u001b[39m.\u001b[39;49mmode,\n\u001b[1;32m    244\u001b[0m     encoding\u001b[39m=\u001b[39;49m\u001b[39mself\u001b[39;49m\u001b[39m.\u001b[39;49mencoding,\n\u001b[1;32m    245\u001b[0m     errors\u001b[39m=\u001b[39;49m\u001b[39mself\u001b[39;49m\u001b[39m.\u001b[39;49merrors,\n\u001b[1;32m    246\u001b[0m     compression\u001b[39m=\u001b[39;49m\u001b[39mself\u001b[39;49m\u001b[39m.\u001b[39;49mcompression,\n\u001b[1;32m    247\u001b[0m     storage_options\u001b[39m=\u001b[39;49m\u001b[39mself\u001b[39;49m\u001b[39m.\u001b[39;49mstorage_options,\n\u001b[1;32m    248\u001b[0m ) \u001b[39mas\u001b[39;00m handles:\n\u001b[1;32m    249\u001b[0m \n\u001b[1;32m    250\u001b[0m     \u001b[39m# Note: self.encoding is irrelevant here\u001b[39;00m\n\u001b[1;32m    251\u001b[0m     \u001b[39mself\u001b[39m\u001b[39m.\u001b[39mwriter \u001b[39m=\u001b[39m csvlib\u001b[39m.\u001b[39mwriter(\n\u001b[1;32m    252\u001b[0m         handles\u001b[39m.\u001b[39mhandle,\n\u001b[1;32m    253\u001b[0m         lineterminator\u001b[39m=\u001b[39m\u001b[39mself\u001b[39m\u001b[39m.\u001b[39mlineterminator,\n\u001b[0;32m   (...)\u001b[0m\n\u001b[1;32m    258\u001b[0m         quotechar\u001b[39m=\u001b[39m\u001b[39mself\u001b[39m\u001b[39m.\u001b[39mquotechar,\n\u001b[1;32m    259\u001b[0m     )\n\u001b[1;32m    261\u001b[0m     \u001b[39mself\u001b[39m\u001b[39m.\u001b[39m_save()\n",
      "File \u001b[0;32m~/projects/singlecell-kaggle/.venv/lib/python3.10/site-packages/pandas/io/common.py:857\u001b[0m, in \u001b[0;36mget_handle\u001b[0;34m(path_or_buf, mode, encoding, compression, memory_map, is_text, errors, storage_options)\u001b[0m\n\u001b[1;32m    852\u001b[0m \u001b[39melif\u001b[39;00m \u001b[39misinstance\u001b[39m(handle, \u001b[39mstr\u001b[39m):\n\u001b[1;32m    853\u001b[0m     \u001b[39m# Check whether the filename is to be opened in binary mode.\u001b[39;00m\n\u001b[1;32m    854\u001b[0m     \u001b[39m# Binary mode does not support 'encoding' and 'newline'.\u001b[39;00m\n\u001b[1;32m    855\u001b[0m     \u001b[39mif\u001b[39;00m ioargs\u001b[39m.\u001b[39mencoding \u001b[39mand\u001b[39;00m \u001b[39m\"\u001b[39m\u001b[39mb\u001b[39m\u001b[39m\"\u001b[39m \u001b[39mnot\u001b[39;00m \u001b[39min\u001b[39;00m ioargs\u001b[39m.\u001b[39mmode:\n\u001b[1;32m    856\u001b[0m         \u001b[39m# Encoding\u001b[39;00m\n\u001b[0;32m--> 857\u001b[0m         handle \u001b[39m=\u001b[39m \u001b[39mopen\u001b[39;49m(\n\u001b[1;32m    858\u001b[0m             handle,\n\u001b[1;32m    859\u001b[0m             ioargs\u001b[39m.\u001b[39;49mmode,\n\u001b[1;32m    860\u001b[0m             encoding\u001b[39m=\u001b[39;49mioargs\u001b[39m.\u001b[39;49mencoding,\n\u001b[1;32m    861\u001b[0m             errors\u001b[39m=\u001b[39;49merrors,\n\u001b[1;32m    862\u001b[0m             newline\u001b[39m=\u001b[39;49m\u001b[39m\"\u001b[39;49m\u001b[39m\"\u001b[39;49m,\n\u001b[1;32m    863\u001b[0m         )\n\u001b[1;32m    864\u001b[0m     \u001b[39melse\u001b[39;00m:\n\u001b[1;32m    865\u001b[0m         \u001b[39m# Binary mode\u001b[39;00m\n\u001b[1;32m    866\u001b[0m         handle \u001b[39m=\u001b[39m \u001b[39mopen\u001b[39m(handle, ioargs\u001b[39m.\u001b[39mmode)\n",
      "\u001b[0;31mOSError\u001b[0m: [Errno 63] File name too long: '/Users/luke/projects/singlecell-kaggle/data/submissions/SubmissionExperiments(cite_mlflow_id=            row_id       cell_id          gene_id    target\\n0                0  c2150f55becb             CD86  0.197349\\n1                1  c2150f55becb            CD274  0.231233\\n2                2  c2150f55becb            CD270  0.580790\\n3                3  c2150f55becb            CD155  4.036426\\n4                4  c2150f55becb            CD112  4.409443\\n...            ...           ...              ...       ...\\n65744175  65744175  2c53aa67933d  ENSG00000134419       NaN\\n65744176  65744176  2c53aa67933d  ENSG00000186862       NaN\\n65744177  65744177  2c53aa67933d  ENSG00000170959       NaN\\n65744178  65744178  2c53aa67933d  ENSG00000107874       NaN\\n65744179  65744179  2c53aa67933d  ENSG00000166012       NaN\\n\\n[65744180 rows x 4 columns], multi_mlflow_id=            row_id       cell_id          gene_id    target\\n0                0  c2150f55becb             CD86       NaN\\n1                1  c2150f55becb            CD274       NaN\\n2                2  c2150f55becb            CD270       NaN\\n3                3  c2150f55becb            CD155       NaN\\n4                4  c2150f55becb            CD112       NaN\\n...            ...           ...              ...       ...\\n65744175  65744175  2c53aa67933d  ENSG00000134419  7.288827\\n65744176  65744176  2c53aa67933d  ENSG00000186862  0.004446\\n65744177  65744177  2c53aa67933d  ENSG00000170959  0.056028\\n65744178  65744178  2c53aa67933d  ENSG00000107874  1.916548\\n65744179  65744179  2c53aa67933d  ENSG00000166012  5.034296\\n\\n[65744180 rows x 4 columns]).csv'"
     ]
    }
   ],
   "source": [
    "create_submission_from_mlflow_experiments(\"87109fdd739f4d03a21e69e59c82e0ac\", \"d2a4ca9b23a54d64971cca01c750b311\")"
   ]
  },
  {
   "cell_type": "code",
   "execution_count": null,
   "metadata": {},
   "outputs": [],
   "source": []
  }
 ],
 "metadata": {
  "kernelspec": {
   "display_name": "Python 3.10.6 ('.venv': poetry)",
   "language": "python",
   "name": "python3"
  },
  "language_info": {
   "codemirror_mode": {
    "name": "ipython",
    "version": 3
   },
   "file_extension": ".py",
   "mimetype": "text/x-python",
   "name": "python",
   "nbconvert_exporter": "python",
   "pygments_lexer": "ipython3",
   "version": "3.10.6"
  },
  "orig_nbformat": 4,
  "vscode": {
   "interpreter": {
    "hash": "ffd6c8928b0ee1ff35d95e1a002ba83d6fc6c953861d0ac4f834d9a76673592c"
   }
  }
 },
 "nbformat": 4,
 "nbformat_minor": 2
}
