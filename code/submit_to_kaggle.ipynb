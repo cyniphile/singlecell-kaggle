{
 "cells": [
  {
   "cell_type": "code",
   "execution_count": 1,
   "metadata": {},
   "outputs": [
    {
     "name": "stderr",
     "output_type": "stream",
     "text": [
      "20:02:20.509 | INFO    | prefect.engine - Created flow run 'thoughtful-goshawk' for flow 'run-or-get-cache'\n",
      "20:02:21.320 | INFO    | Flow run 'thoughtful-goshawk' - Finished in state Completed()\n"
     ]
    }
   ],
   "source": [
    "from rbf_pca_normed_input_output import last_year_rbf_flow\n",
    "import utils"
   ]
  },
  {
   "cell_type": "code",
   "execution_count": 3,
   "metadata": {},
   "outputs": [],
   "source": [
    "from utils import create_submission_from_mlflow_experiments"
   ]
  },
  {
   "cell_type": "code",
   "execution_count": null,
   "metadata": {},
   "outputs": [],
   "source": [
    "create_submission_from_mlflow_experiments(\"87109fdd739f4d03a21e69e59c82e0ac\", \"d2a4ca9b23a54d64971cca01c750b311\")"
   ]
  },
  {
   "cell_type": "code",
   "execution_count": null,
   "metadata": {},
   "outputs": [
    {
     "name": "stderr",
     "output_type": "stream",
     "text": [
      "20:02:21.482 | INFO    | Flow run 'thoughtful-goshawk' - no cache found, running flow last_year_rbf_flow\n",
      "20:02:21.831 | INFO    | prefect.engine - Created flow run 'burrowing-longhorn' for flow 'RBF with Input and Target PCA'\n",
      "20:02:23.065 | INFO    | Flow run 'burrowing-longhorn' - Created subflow run 'ruby-ringtail' for flow 'load-all-data'\n",
      "20:02:23.386 | INFO    | Flow run 'ruby-ringtail' - Created task run 'load_train_inputs-c15fb8b8-0' for task 'load_train_inputs'\n",
      "20:02:23.388 | INFO    | Flow run 'ruby-ringtail' - Submitted task run 'load_train_inputs-c15fb8b8-0' for execution.\n"
     ]
    }
   ],
   "source": [
    "from rbf_pca_normed_input_output import last_year_rbf_flow\n",
    "\n",
    "for technology in [utils.cite, utils.multi]:\n",
    "    last_year_rbf_flow(\n",
    "        technology=technology,\n",
    "        max_rows_train=50_000,\n",
    "        alpha=.1,\n",
    "        scale=1,\n",
    "        inputs_pca_dims=200,\n",
    "        targets_pca_dims=100,\n",
    "    )"
   ]
  },
  {
   "cell_type": "code",
   "execution_count": null,
   "metadata": {},
   "outputs": [
    {
     "name": "stderr",
     "output_type": "stream",
     "text": [
      "20:02:21.482 | INFO    | Flow run 'thoughtful-goshawk' - no cache found, running flow last_year_rbf_flow\n",
      "20:02:21.831 | INFO    | prefect.engine - Created flow run 'burrowing-longhorn' for flow 'RBF with Input and Target PCA'\n",
      "20:02:23.065 | INFO    | Flow run 'burrowing-longhorn' - Created subflow run 'ruby-ringtail' for flow 'load-all-data'\n",
      "20:02:23.386 | INFO    | Flow run 'ruby-ringtail' - Created task run 'load_train_inputs-c15fb8b8-0' for task 'load_train_inputs'\n",
      "20:02:23.388 | INFO    | Flow run 'ruby-ringtail' - Submitted task run 'load_train_inputs-c15fb8b8-0' for execution.\n"
     ]
    }
   ],
   "source": [
    "from xgboost_pca_normed_input_output import xgb_flow\n",
    "\n",
    "input_pca_dims = [20, 100, 200]\n",
    "output_pca_dims = [20, 100, 140]\n",
    "max_rows_train = 0\n",
    "\n",
    "for input_pca_dim in input_pca_dims:\n",
    "    for output_pca_dim in output_pca_dims:\n",
    "        for technology in [utils.cite, utils.multi]:\n",
    "            xgb_flow(\n",
    "                technology=technology,\n",
    "                max_rows_train=max_rows_train,\n",
    "                inputs_pca_dims=input_pca_dim,\n",
    "                targets_pca_dims=output_pca_dim,\n",
    "            )\n"
   ]
  },
  {
   "cell_type": "code",
   "execution_count": null,
   "metadata": {},
   "outputs": [],
   "source": []
  }
 ],
 "metadata": {
  "kernelspec": {
   "display_name": "Python 3.10.6 ('.venv': poetry)",
   "language": "python",
   "name": "python3"
  },
  "language_info": {
   "codemirror_mode": {
    "name": "ipython",
    "version": 3
   },
   "file_extension": ".py",
   "mimetype": "text/x-python",
   "name": "python",
   "nbconvert_exporter": "python",
   "pygments_lexer": "ipython3",
   "version": "3.10.6"
  },
  "orig_nbformat": 4,
  "vscode": {
   "interpreter": {
    "hash": "ffd6c8928b0ee1ff35d95e1a002ba83d6fc6c953861d0ac4f834d9a76673592c"
   }
  }
 },
 "nbformat": 4,
 "nbformat_minor": 2
}
