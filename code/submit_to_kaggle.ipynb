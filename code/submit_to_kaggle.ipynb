{
 "cells": [
  {
   "cell_type": "code",
   "execution_count": 1,
   "metadata": {},
   "outputs": [],
   "source": [
    "import utils"
   ]
  },
  {
   "cell_type": "code",
   "execution_count": 2,
   "metadata": {},
   "outputs": [
    {
     "name": "stderr",
     "output_type": "stream",
     "text": [
      "12:03:53.579 | INFO    | prefect.engine - Created flow run 'merry-coot' for flow 'run-or-get-cache'\n",
      "12:03:53.726 | INFO    | Flow run 'merry-coot' - Finished in state Completed()\n",
      "12:03:53.729 | INFO    | Flow run 'merry-coot' - found cache /Users/luke/projects/singlecell-kaggle/data/submissions/last_year_rbf_flow-189537443420133587712892105444131605041.arrow, skipping recalculation...\n",
      "/Users/luke/projects/singlecell-kaggle/.venv/lib/python3.10/site-packages/prefect/flows.py:201: UserWarning: A flow named 'RBF with Input and Target PCA' and defined at '/Users/luke/projects/singlecell-kaggle/code/rbf_pca_normed_input_output.py:28' conflicts with another flow. Consider specifying a unique `name` parameter in the flow definition:\n",
      "\n",
      " `@flow(name='my_unique_name', ...)`\n",
      "  warnings.warn(\n",
      "12:04:05.798 | INFO    | prefect.engine - Created flow run 'pearl-porpoise' for flow 'run-or-get-cache'\n",
      "12:04:05.958 | INFO    | Flow run 'pearl-porpoise' - Finished in state Completed()\n",
      "12:04:05.962 | INFO    | Flow run 'pearl-porpoise' - no cache found, running flow last_year_rbf_flow\n",
      "12:04:06.053 | INFO    | prefect.engine - Created flow run 'delectable-nuthatch' for flow 'RBF with Input and Target PCA'\n",
      "12:04:06.437 | INFO    | Flow run 'delectable-nuthatch' - Created subflow run 'ruby-dormouse' for flow 'load-all-data'\n",
      "12:04:06.501 | INFO    | Flow run 'ruby-dormouse' - Created task run 'load_test_inputs-f73ea050-0' for task 'load_test_inputs'\n",
      "12:04:06.502 | INFO    | Flow run 'ruby-dormouse' - Executing 'load_test_inputs-f73ea050-0' immediately...\n",
      "12:04:23.473 | INFO    | Task run 'load_test_inputs-f73ea050-0' - Finished in state Completed()\n",
      "12:04:23.495 | INFO    | Flow run 'ruby-dormouse' - Created task run 'load_train_targets-1057a62e-0' for task 'load_train_targets'\n",
      "12:04:23.496 | INFO    | Flow run 'ruby-dormouse' - Executing 'load_train_targets-1057a62e-0' immediately...\n",
      "12:04:25.009 | INFO    | Task run 'load_train_targets-1057a62e-0' - Finished in state Completed()\n",
      "12:04:25.030 | INFO    | Flow run 'ruby-dormouse' - Created task run 'load_test_inputs-f73ea050-1' for task 'load_test_inputs'\n",
      "12:04:25.031 | INFO    | Flow run 'ruby-dormouse' - Executing 'load_test_inputs-f73ea050-1' immediately...\n",
      "12:04:42.832 | INFO    | Task run 'load_test_inputs-f73ea050-1' - Finished in state Completed()\n",
      "12:04:42.869 | INFO    | Flow run 'ruby-dormouse' - Finished in state Completed()\n",
      "12:04:42.967 | INFO    | Flow run 'delectable-nuthatch' - Created subflow run 'black-buffalo' for flow 'pca-inputs'\n",
      "12:04:45.722 | INFO    | Flow run 'black-buffalo' - Created task run 'truncated_pca-fc904c34-0' for task 'truncated_pca'\n",
      "12:04:45.723 | INFO    | Flow run 'black-buffalo' - Executing 'truncated_pca-fc904c34-0' immediately...\n",
      "12:06:02.031 | INFO    | Task run 'truncated_pca-fc904c34-0' - Finished in state Completed()\n",
      "12:06:02.259 | INFO    | Flow run 'black-buffalo' - Finished in state Completed()\n",
      "12:06:02.304 | INFO    | Flow run 'delectable-nuthatch' - Created task run 'truncated_pca-fc904c34-0' for task 'truncated_pca'\n",
      "12:06:02.305 | INFO    | Flow run 'delectable-nuthatch' - Executing 'truncated_pca-fc904c34-0' immediately...\n",
      "12:06:03.014 | INFO    | Task run 'truncated_pca-fc904c34-0' - Finished in state Completed()\n",
      "12:06:03.439 | INFO    | Flow run 'delectable-nuthatch' - Fit full model on all training data\n",
      "12:06:07.118 | INFO    | Flow run 'delectable-nuthatch' - Predict on full submission inputs\n",
      "12:06:28.259 | INFO    | Flow run 'delectable-nuthatch' - Created task run 'format_submission-5501e718-0' for task 'format_submission'\n",
      "12:06:28.264 | INFO    | Flow run 'delectable-nuthatch' - Executing 'format_submission-5501e718-0' immediately...\n",
      "12:06:28.393 | INFO    | Task run 'format_submission-5501e718-0' - Loading indices...\n",
      "12:06:28.577 | INFO    | Task run 'format_submission-5501e718-0' - Loading evaluation ids...\n",
      "12:08:00.373 | INFO    | Task run 'format_submission-5501e718-0' - Final step: fill empty submission df...\n",
      "12:11:40.176 | INFO    | Task run 'format_submission-5501e718-0' - Finished in state Completed()\n",
      "12:11:41.467 | INFO    | Flow run 'delectable-nuthatch' - Finished in state Completed()\n",
      "12:11:47.447 | INFO    | Flow run 'pearl-porpoise' - flow completed, writing result to /Users/luke/projects/singlecell-kaggle/data/submissions/last_year_rbf_flow-47159474310652175624918429363413920022.arrow\n",
      "12:11:58.665 | INFO    | Flow run 'pearl-porpoise' - finished caching\n",
      "100%|██████████| 1.60G/1.60G [20:17<00:00, 1.41MB/s]  \n"
     ]
    },
    {
     "name": "stdout",
     "output_type": "stream",
     "text": [
      "Successfully submitted to Open Problems - Multimodal Single-Cell Integration"
     ]
    }
   ],
   "source": [
    "cite_id = \"3637dd33e9b04a1782ae1b8925cccc21\"\n",
    "multi_id = \"8fd54670c3dc4986b2dda4873e47ea4e\"\n",
    "utils.create_submission_from_mlflow_experiments(cite_id, multi_id)"
   ]
  }
 ],
 "metadata": {
  "kernelspec": {
   "display_name": "Python 3.10.6 ('.venv': poetry)",
   "language": "python",
   "name": "python3"
  },
  "language_info": {
   "codemirror_mode": {
    "name": "ipython",
    "version": 3
   },
   "file_extension": ".py",
   "mimetype": "text/x-python",
   "name": "python",
   "nbconvert_exporter": "python",
   "pygments_lexer": "ipython3",
   "version": "3.10.6"
  },
  "orig_nbformat": 4,
  "vscode": {
   "interpreter": {
    "hash": "ffd6c8928b0ee1ff35d95e1a002ba83d6fc6c953861d0ac4f834d9a76673592c"
   }
  }
 },
 "nbformat": 4,
 "nbformat_minor": 2
}
