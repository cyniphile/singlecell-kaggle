{
 "cells": [
  {
   "cell_type": "code",
   "execution_count": 12,
   "metadata": {},
   "outputs": [
    {
     "name": "stderr",
     "output_type": "stream",
     "text": [
      "18:15:13.193 | INFO    | Flow run 'massive-bloodhound' - no cache found, running flow last_year_rbf_flow\n",
      "18:15:13.519 | INFO    | prefect.engine - Created flow run 'misty-sheep' for flow 'RBF with Input and Target PCA'\n",
      "18:15:16.260 | INFO    | Flow run 'misty-sheep' - Created subflow run 'debonair-squid' for flow 'load-all-data'\n",
      "18:15:16.615 | INFO    | Flow run 'debonair-squid' - Created task run 'load_test_inputs-f73ea050-0' for task 'load_test_inputs'\n",
      "18:15:16.617 | INFO    | Flow run 'debonair-squid' - Executing 'load_test_inputs-f73ea050-0' immediately...\n",
      "18:15:26.816 | INFO    | Task run 'load_test_inputs-f73ea050-0' - Finished in state Completed()\n",
      "18:15:27.070 | INFO    | Flow run 'debonair-squid' - Created task run 'load_train_targets-1057a62e-0' for task 'load_train_targets'\n",
      "18:15:27.072 | INFO    | Flow run 'debonair-squid' - Executing 'load_train_targets-1057a62e-0' immediately...\n",
      "18:15:28.035 | INFO    | Task run 'load_train_targets-1057a62e-0' - Finished in state Completed()\n",
      "18:15:28.707 | INFO    | Flow run 'debonair-squid' - Created task run 'load_test_inputs-f73ea050-1' for task 'load_test_inputs'\n",
      "18:15:28.708 | INFO    | Flow run 'debonair-squid' - Executing 'load_test_inputs-f73ea050-1' immediately...\n",
      "18:15:38.778 | INFO    | Task run 'load_test_inputs-f73ea050-1' - Finished in state Completed()\n",
      "18:15:38.887 | INFO    | Flow run 'debonair-squid' - Finished in state Completed()\n",
      "18:15:39.550 | INFO    | Flow run 'misty-sheep' - Created subflow run 'impetuous-hyrax' for flow 'pca-inputs'\n",
      "18:15:46.323 | INFO    | Flow run 'impetuous-hyrax' - Created task run 'truncated_pca-fc904c34-0' for task 'truncated_pca'\n",
      "18:15:46.325 | INFO    | Flow run 'impetuous-hyrax' - Executing 'truncated_pca-fc904c34-0' immediately...\n",
      "18:19:00.576 | INFO    | Task run 'truncated_pca-fc904c34-0' - Finished in state Completed()\n",
      "18:19:01.345 | INFO    | Flow run 'impetuous-hyrax' - Finished in state Completed()\n",
      "18:19:01.460 | INFO    | Flow run 'misty-sheep' - Created task run 'truncated_pca-fc904c34-0' for task 'truncated_pca'\n",
      "18:19:01.464 | INFO    | Flow run 'misty-sheep' - Executing 'truncated_pca-fc904c34-0' immediately...\n",
      "18:19:04.119 | INFO    | Task run 'truncated_pca-fc904c34-0' - Finished in state Completed()\n",
      "18:19:05.057 | INFO    | Flow run 'misty-sheep' - Created subflow run 'red-bullfrog' for flow 'k-fold-validation'\n",
      "18:19:05.320 | INFO    | Flow run 'red-bullfrog' - Fitting fold 0...\n",
      "18:19:05.427 | INFO    | Flow run 'red-bullfrog' - Created task run 'fit_and_score_pca_targets-18075144-0' for task 'fit_and_score_pca_targets'\n",
      "18:19:05.428 | INFO    | Flow run 'red-bullfrog' - Executing 'fit_and_score_pca_targets-18075144-0' immediately...\n",
      "18:35:03.887 | INFO    | Task run 'fit_and_score_pca_targets-18075144-0' - Score: 0.8080305373207693\n",
      "18:35:04.186 | INFO    | Task run 'fit_and_score_pca_targets-18075144-0' - Finished in state Completed()\n",
      "18:35:04.194 | INFO    | Flow run 'red-bullfrog' - Score Score(score=0.8080305373207693) for fold 0\n",
      "18:35:04.404 | INFO    | Flow run 'red-bullfrog' - Fitting fold 1...\n",
      "18:35:04.508 | INFO    | Flow run 'red-bullfrog' - Created task run 'fit_and_score_pca_targets-18075144-1' for task 'fit_and_score_pca_targets'\n",
      "18:35:04.509 | INFO    | Flow run 'red-bullfrog' - Executing 'fit_and_score_pca_targets-18075144-1' immediately...\n",
      "18:50:30.385 | INFO    | Task run 'fit_and_score_pca_targets-18075144-1' - Score: 0.8125852720812241\n",
      "18:50:30.681 | INFO    | Task run 'fit_and_score_pca_targets-18075144-1' - Finished in state Completed()\n",
      "18:50:30.685 | INFO    | Flow run 'red-bullfrog' - Score Score(score=0.8125852720812241) for fold 1\n",
      "18:50:30.862 | INFO    | Flow run 'red-bullfrog' - Fitting fold 2...\n",
      "18:50:30.982 | INFO    | Flow run 'red-bullfrog' - Created task run 'fit_and_score_pca_targets-18075144-2' for task 'fit_and_score_pca_targets'\n",
      "18:50:30.983 | INFO    | Flow run 'red-bullfrog' - Executing 'fit_and_score_pca_targets-18075144-2' immediately...\n",
      "19:05:53.038 | INFO    | Task run 'fit_and_score_pca_targets-18075144-2' - Score: 0.8177947316836633\n",
      "19:05:53.408 | INFO    | Task run 'fit_and_score_pca_targets-18075144-2' - Finished in state Completed()\n",
      "19:05:53.411 | INFO    | Flow run 'red-bullfrog' - Score Score(score=0.8177947316836633) for fold 2\n",
      "19:05:53.560 | INFO    | Flow run 'red-bullfrog' - Finished in state Completed()\n",
      "19:05:53.800 | INFO    | Flow run 'misty-sheep' - Finished in state Completed('All states completed.')\n",
      "19:05:54.130 | INFO    | Flow run 'massive-bloodhound' - flow completed, writing result to /Users/luke/projects/singlecell-kaggle/data/submissions/last_year_rbf_flow-32338232826629632513577289315917819262.arrow\n"
     ]
    },
    {
     "ename": "ValueError",
     "evalue": "feather must have string column names",
     "output_type": "error",
     "traceback": [
      "\u001b[0;31m---------------------------------------------------------------------------\u001b[0m",
      "\u001b[0;31mValueError\u001b[0m                                Traceback (most recent call last)",
      "Cell \u001b[0;32mIn [12], line 3\u001b[0m\n\u001b[1;32m      1\u001b[0m \u001b[39mfrom\u001b[39;00m \u001b[39mrbf_pca_normed_input_output\u001b[39;00m \u001b[39mimport\u001b[39;00m last_year_rbf_flow\n\u001b[1;32m      2\u001b[0m \u001b[39mimport\u001b[39;00m \u001b[39mutils\u001b[39;00m\n\u001b[0;32m----> 3\u001b[0m last_year_rbf_flow(\n\u001b[1;32m      4\u001b[0m     max_rows_train\u001b[39m=\u001b[39;49m \u001b[39m100000\u001b[39;49m,\n\u001b[1;32m      5\u001b[0m     inputs_pca_dims \u001b[39m=\u001b[39;49m \u001b[39m100\u001b[39;49m,\n\u001b[1;32m      6\u001b[0m     targets_pca_dims \u001b[39m=\u001b[39;49m \u001b[39m100\u001b[39;49m,\n\u001b[1;32m      7\u001b[0m     technology\u001b[39m=\u001b[39;49mutils\u001b[39m.\u001b[39;49mcite,\n\u001b[1;32m      8\u001b[0m     k_folds \u001b[39m=\u001b[39;49m \u001b[39m3\u001b[39;49m\n\u001b[1;32m      9\u001b[0m )\n\u001b[1;32m     10\u001b[0m last_year_rbf_flow(\n\u001b[1;32m     11\u001b[0m     max_rows_train\u001b[39m=\u001b[39m \u001b[39m100000\u001b[39m,\n\u001b[1;32m     12\u001b[0m     inputs_pca_dims \u001b[39m=\u001b[39m \u001b[39m100\u001b[39m,\n\u001b[0;32m   (...)\u001b[0m\n\u001b[1;32m     15\u001b[0m     k_folds \u001b[39m=\u001b[39m \u001b[39m3\u001b[39m\n\u001b[1;32m     16\u001b[0m )\n",
      "File \u001b[0;32m~/projects/singlecell-kaggle/code/utils.py:482\u001b[0m, in \u001b[0;36mwrapper\u001b[0;34m(**kwargs)\u001b[0m\n\u001b[1;32m    480\u001b[0m \u001b[39melse\u001b[39;00m:\n\u001b[1;32m    481\u001b[0m     logging\u001b[39m.\u001b[39minfo(\u001b[39mf\u001b[39m\u001b[39m\"\u001b[39m\u001b[39mno cache found, running flow \u001b[39m\u001b[39m{\u001b[39;00mflow\u001b[39m.\u001b[39m\u001b[39m__name__\u001b[39m\u001b[39m}\u001b[39;00m\u001b[39m\"\u001b[39m)\n\u001b[0;32m--> 482\u001b[0m     submission \u001b[39m=\u001b[39m pd\u001b[39m.\u001b[39mDataFrame(flow(\u001b[39m*\u001b[39m\u001b[39m*\u001b[39mkwargs))\u001b[39m.\u001b[39mreset_index()\n\u001b[1;32m    483\u001b[0m     \u001b[39mif\u001b[39;00m \u001b[39mnot\u001b[39;00m skip_caching:\n\u001b[1;32m    484\u001b[0m         logging\u001b[39m.\u001b[39minfo(\u001b[39mf\u001b[39m\u001b[39m\"\u001b[39m\u001b[39mflow completed, writing result to \u001b[39m\u001b[39m{\u001b[39;00mfile_path\u001b[39m}\u001b[39;00m\u001b[39m\"\u001b[39m)\n",
      "File \u001b[0;32m~/projects/singlecell-kaggle/.venv/lib/python3.10/site-packages/pandas/util/_decorators.py:211\u001b[0m, in \u001b[0;36mdeprecate_kwarg.<locals>._deprecate_kwarg.<locals>.wrapper\u001b[0;34m(*args, **kwargs)\u001b[0m\n\u001b[1;32m    209\u001b[0m     \u001b[39melse\u001b[39;00m:\n\u001b[1;32m    210\u001b[0m         kwargs[new_arg_name] \u001b[39m=\u001b[39m new_arg_value\n\u001b[0;32m--> 211\u001b[0m \u001b[39mreturn\u001b[39;00m func(\u001b[39m*\u001b[39;49margs, \u001b[39m*\u001b[39;49m\u001b[39m*\u001b[39;49mkwargs)\n",
      "File \u001b[0;32m~/projects/singlecell-kaggle/.venv/lib/python3.10/site-packages/pandas/core/frame.py:2794\u001b[0m, in \u001b[0;36mDataFrame.to_feather\u001b[0;34m(self, path, **kwargs)\u001b[0m\n\u001b[1;32m   2769\u001b[0m \u001b[39m\"\"\"\u001b[39;00m\n\u001b[1;32m   2770\u001b[0m \u001b[39mWrite a DataFrame to the binary Feather format.\u001b[39;00m\n\u001b[1;32m   2771\u001b[0m \n\u001b[0;32m   (...)\u001b[0m\n\u001b[1;32m   2790\u001b[0m \u001b[39msupports custom indices e.g. `to_parquet`.\u001b[39;00m\n\u001b[1;32m   2791\u001b[0m \u001b[39m\"\"\"\u001b[39;00m\n\u001b[1;32m   2792\u001b[0m \u001b[39mfrom\u001b[39;00m \u001b[39mpandas\u001b[39;00m\u001b[39m.\u001b[39;00m\u001b[39mio\u001b[39;00m\u001b[39m.\u001b[39;00m\u001b[39mfeather_format\u001b[39;00m \u001b[39mimport\u001b[39;00m to_feather\n\u001b[0;32m-> 2794\u001b[0m to_feather(\u001b[39mself\u001b[39;49m, path, \u001b[39m*\u001b[39;49m\u001b[39m*\u001b[39;49mkwargs)\n",
      "File \u001b[0;32m~/projects/singlecell-kaggle/.venv/lib/python3.10/site-packages/pandas/io/feather_format.py:88\u001b[0m, in \u001b[0;36mto_feather\u001b[0;34m(df, path, storage_options, **kwargs)\u001b[0m\n\u001b[1;32m     83\u001b[0m \u001b[39m# validate columns\u001b[39;00m\n\u001b[1;32m     84\u001b[0m \u001b[39m# ----------------\u001b[39;00m\n\u001b[1;32m     85\u001b[0m \n\u001b[1;32m     86\u001b[0m \u001b[39m# must have value column names (strings only)\u001b[39;00m\n\u001b[1;32m     87\u001b[0m \u001b[39mif\u001b[39;00m df\u001b[39m.\u001b[39mcolumns\u001b[39m.\u001b[39minferred_type \u001b[39mnot\u001b[39;00m \u001b[39min\u001b[39;00m valid_types:\n\u001b[0;32m---> 88\u001b[0m     \u001b[39mraise\u001b[39;00m \u001b[39mValueError\u001b[39;00m(\u001b[39m\"\u001b[39m\u001b[39mfeather must have string column names\u001b[39m\u001b[39m\"\u001b[39m)\n\u001b[1;32m     90\u001b[0m \u001b[39mwith\u001b[39;00m get_handle(\n\u001b[1;32m     91\u001b[0m     path, \u001b[39m\"\u001b[39m\u001b[39mwb\u001b[39m\u001b[39m\"\u001b[39m, storage_options\u001b[39m=\u001b[39mstorage_options, is_text\u001b[39m=\u001b[39m\u001b[39mFalse\u001b[39;00m\n\u001b[1;32m     92\u001b[0m ) \u001b[39mas\u001b[39;00m handles:\n\u001b[1;32m     93\u001b[0m     feather\u001b[39m.\u001b[39mwrite_feather(df, handles\u001b[39m.\u001b[39mhandle, \u001b[39m*\u001b[39m\u001b[39m*\u001b[39mkwargs)\n",
      "\u001b[0;31mValueError\u001b[0m: feather must have string column names"
     ]
    }
   ],
   "source": [
    "from rbf_pca_normed_input_output import last_year_rbf_flow\n",
    "import utils\n",
    "last_year_rbf_flow(\n",
    "    max_rows_train= 1000000,\n",
    "    inputs_pca_dims = 1000,\n",
    "    targets_pca_dims = 100,\n",
    "    technology=utils.cite,\n",
    "    k_folds = 3\n",
    ")\n",
    "last_year_rbf_flow(\n",
    "    max_rows_train= 100000,\n",
    "    inputs_pca_dims = 1000,\n",
    "    targets_pca_dims = 100,\n",
    "    technology=utils.multi,\n",
    "    k_folds = 3\n",
    ")"
   ]
  }
 ],
 "metadata": {
  "kernelspec": {
   "display_name": "Python 3.10.6 ('.venv': poetry)",
   "language": "python",
   "name": "python3"
  },
  "language_info": {
   "codemirror_mode": {
    "name": "ipython",
    "version": 3
   },
   "file_extension": ".py",
   "mimetype": "text/x-python",
   "name": "python",
   "nbconvert_exporter": "python",
   "pygments_lexer": "ipython3",
   "version": "3.10.6"
  },
  "orig_nbformat": 4,
  "vscode": {
   "interpreter": {
    "hash": "ffd6c8928b0ee1ff35d95e1a002ba83d6fc6c953861d0ac4f834d9a76673592c"
   }
  }
 },
 "nbformat": 4,
 "nbformat_minor": 2
}
