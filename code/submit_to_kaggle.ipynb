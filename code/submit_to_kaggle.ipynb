{
 "cells": [
  {
   "cell_type": "code",
   "execution_count": 1,
   "metadata": {},
   "outputs": [
    {
     "name": "stderr",
     "output_type": "stream",
     "text": [
      "15:10:26.155 | INFO    | prefect.engine - Created flow run 'eccentric-macaw' for flow 'run-or-get-cache'\n",
      "15:10:26.381 | INFO    | Flow run 'eccentric-macaw' - Finished in state Completed()\n"
     ]
    }
   ],
   "source": [
    "import utils\n",
    "from rbf_pca_normed_input_output import last_year_rbf_flow"
   ]
  },
  {
   "cell_type": "code",
   "execution_count": 2,
   "metadata": {},
   "outputs": [
    {
     "name": "stderr",
     "output_type": "stream",
     "text": [
      "15:10:26.415 | INFO    | Flow run 'eccentric-macaw' - found cache /Users/luke/projects/singlecell-kaggle/data/submissions/last_year_rbf_flow-23116932515746523122264164573810111531.arrow, skipping recalculation...\n",
      "15:10:34.051 | INFO    | Flow run 'eccentric-macaw' - no cache found, running flow last_year_rbf_flow\n",
      "15:10:34.164 | INFO    | prefect.engine - Created flow run 'hasty-rabbit' for flow 'RBF with Input and Target PCA'\n",
      "15:10:34.587 | INFO    | Flow run 'hasty-rabbit' - Created subflow run 'congenial-tarantula' for flow 'load-all-data'\n",
      "15:10:34.664 | INFO    | Flow run 'congenial-tarantula' - Created task run 'load_test_inputs-f73ea050-0' for task 'load_test_inputs'\n",
      "15:10:34.665 | INFO    | Flow run 'congenial-tarantula' - Submitted task run 'load_test_inputs-f73ea050-0' for execution.\n",
      "15:10:34.683 | INFO    | Flow run 'congenial-tarantula' - Created task run 'load_test_inputs-f73ea050-1' for task 'load_test_inputs'\n",
      "15:10:34.684 | INFO    | Flow run 'congenial-tarantula' - Submitted task run 'load_test_inputs-f73ea050-1' for execution.\n",
      "15:10:34.711 | INFO    | Flow run 'congenial-tarantula' - Created task run 'load_train_targets-1057a62e-0' for task 'load_train_targets'\n",
      "15:10:34.712 | INFO    | Flow run 'congenial-tarantula' - Submitted task run 'load_train_targets-1057a62e-0' for execution.\n",
      "15:10:36.844 | INFO    | Task run 'load_train_targets-1057a62e-0' - Finished in state Completed()\n",
      "15:10:59.381 | INFO    | Task run 'load_test_inputs-f73ea050-0' - Finished in state Completed()\n",
      "15:11:02.969 | INFO    | Task run 'load_test_inputs-f73ea050-1' - Finished in state Completed()\n",
      "15:11:03.195 | INFO    | Flow run 'congenial-tarantula' - Finished in state Completed()\n",
      "15:11:03.294 | INFO    | Flow run 'hasty-rabbit' - Created subflow run 'intrepid-squid' for flow 'pca-inputs'\n",
      "15:11:05.140 | INFO    | Flow run 'intrepid-squid' - Created task run 'truncated_pca-fc904c34-0' for task 'truncated_pca'\n",
      "15:11:05.141 | INFO    | Flow run 'intrepid-squid' - Submitted task run 'truncated_pca-fc904c34-0' for execution.\n",
      "15:12:18.433 | INFO    | Task run 'truncated_pca-fc904c34-0' - Finished in state Completed()\n",
      "15:12:18.702 | INFO    | Flow run 'intrepid-squid' - Finished in state Completed()\n",
      "15:12:18.739 | INFO    | Flow run 'hasty-rabbit' - Created task run 'truncated_pca-fc904c34-0' for task 'truncated_pca'\n",
      "15:12:18.749 | INFO    | Flow run 'hasty-rabbit' - Submitted task run 'truncated_pca-fc904c34-0' for execution.\n",
      "15:12:19.564 | INFO    | Task run 'truncated_pca-fc904c34-0' - Finished in state Completed()\n",
      "15:12:20.126 | INFO    | Flow run 'hasty-rabbit' - Fit full model on all training data\n",
      "15:12:23.634 | INFO    | Flow run 'hasty-rabbit' - Predict on full submission inputs\n",
      "15:12:41.213 | INFO    | Flow run 'hasty-rabbit' - Created task run 'format_submission-5501e718-0' for task 'format_submission'\n",
      "15:12:41.218 | INFO    | Flow run 'hasty-rabbit' - Executing 'format_submission-5501e718-0' immediately...\n",
      "15:12:41.268 | INFO    | Task run 'format_submission-5501e718-0' - Loading indices...\n",
      "15:12:41.384 | INFO    | Task run 'format_submission-5501e718-0' - Loading evaluation ids...\n",
      "15:14:27.217 | INFO    | Task run 'format_submission-5501e718-0' - Final step: fill empty submission df...\n",
      "15:17:47.176 | INFO    | Task run 'format_submission-5501e718-0' - Finished in state Completed()\n",
      "15:17:48.942 | INFO    | Flow run 'hasty-rabbit' - Finished in state Completed()\n",
      "15:17:55.468 | INFO    | Flow run 'eccentric-macaw' - flow completed, writing result to /Users/luke/projects/singlecell-kaggle/data/submissions/last_year_rbf_flow-27630573324193282161752630622543114590.arrow\n",
      "15:18:04.148 | INFO    | Flow run 'eccentric-macaw' - finished caching\n"
     ]
    }
   ],
   "source": [
    "c  = last_year_rbf_flow(technology=utils.cite, full_submission=True)\n",
    "m =   last_year_rbf_flow(technology=utils.multi, full_submission=True)"
   ]
  },
  {
   "cell_type": "code",
   "execution_count": 4,
   "metadata": {},
   "outputs": [
    {
     "name": "stderr",
     "output_type": "stream",
     "text": [
      "16:08:42.986 | INFO    | root - starting merge\n",
      "16:09:09.176 | INFO    | root - finished merging\n",
      "16:09:11.880 | INFO    | root - Writing /Users/luke/projects/singlecell-kaggle/data/submissions/TODO.csv locally for submission\n",
      "16:11:32.208 | INFO    | root - Submitting /Users/luke/projects/singlecell-kaggle/data/submissions/TODO.csv to kaggle \n",
      "  2%|▏         | 28.8M/1.60G [00:21<19:05, 1.47MB/s]"
     ]
    }
   ],
   "source": [
    "utils.merge_and_submit(c, m)"
   ]
  },
  {
   "cell_type": "code",
   "execution_count": null,
   "metadata": {},
   "outputs": [],
   "source": []
  }
 ],
 "metadata": {
  "kernelspec": {
   "display_name": "Python 3.10.6 ('.venv': poetry)",
   "language": "python",
   "name": "python3"
  },
  "language_info": {
   "codemirror_mode": {
    "name": "ipython",
    "version": 3
   },
   "file_extension": ".py",
   "mimetype": "text/x-python",
   "name": "python",
   "nbconvert_exporter": "python",
   "pygments_lexer": "ipython3",
   "version": "3.10.6"
  },
  "orig_nbformat": 4,
  "vscode": {
   "interpreter": {
    "hash": "ffd6c8928b0ee1ff35d95e1a002ba83d6fc6c953861d0ac4f834d9a76673592c"
   }
  }
 },
 "nbformat": 4,
 "nbformat_minor": 2
}
